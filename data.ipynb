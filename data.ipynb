{
 "cells": [
  {
   "cell_type": "code",
   "execution_count": 2,
   "id": "00be7743",
   "metadata": {},
   "outputs": [],
   "source": [
    "import networkx as nx\n",
    "import pandas as pd"
   ]
  },
  {
   "cell_type": "code",
   "execution_count": 3,
   "id": "93931f29",
   "metadata": {},
   "outputs": [],
   "source": [
    "edgelists = pd.read_csv('data/elliptic_bitcoin_dataset/elliptic_txs_edgelist.csv')\n",
    "features = pd.read_csv('data/elliptic_bitcoin_dataset/elliptic_txs_features.csv')\n",
    "classes = pd.read_csv('data/elliptic_bitcoin_dataset/elliptic_txs_classes.csv')"
   ]
  },
  {
   "cell_type": "code",
   "execution_count": 6,
   "id": "8c806202",
   "metadata": {},
   "outputs": [],
   "source": [
    "features.columns = ['txId'] + [f\"V{i + 1}\" for i in range(len(features.columns) - 1)]"
   ]
  },
  {
   "cell_type": "code",
   "execution_count": 9,
   "id": "0f683b5b",
   "metadata": {},
   "outputs": [
    {
     "name": "stdout",
     "output_type": "stream",
     "text": [
      "Number of nodes: 203768\n",
      "Number of edges: 234355\n"
     ]
    }
   ],
   "source": [
    "print(\"Number of nodes:\", len(features))\n",
    "print(\"Number of edges:\", len(edgelists))"
   ]
  },
  {
   "cell_type": "code",
   "execution_count": 12,
   "id": "6e85cd0e",
   "metadata": {},
   "outputs": [],
   "source": [
    "classes['class_mapped'] = classes['class'].replace({'1': 'illicit', '2': 'licit'})\n",
    "\n",
    "percentage_distribution = round(100 * classes['class_mapped'].value_counts(normalize=True), 2)\n",
    "class_counts = classes['class_mapped'].value_counts()\n",
    "\n",
    "emoji_mapping = {\n",
    "    'licit': '✅', \n",
    "    'illicit': '❌', \n",
    "    'unknown': '🤷'\n",
    "}\n",
    "classes['emoji'] = classes['class_mapped'].map(emoji_mapping)\n",
    "\n",
    "classes_df = pd.DataFrame({\n",
    "    'Class Mapped': classes['class_mapped'].unique(),\n",
    "    'Class Raw': classes['class'].unique(),    \n",
    "    'Counts': class_counts.values,\n",
    "    'Percentage': percentage_distribution.values,\n",
    "    'Emoji': [emoji_mapping[class_label] for class_label in classes['class_mapped'].unique()]\n",
    "})\n",
    "\n",
    "assert len(classes_df) == 3, \"There should be 3 unique classes\"\n",
    "assert sum(classes_df['Counts']) == len(classes), \"Total counts should match the number of rows in classes\""
   ]
  },
  {
   "cell_type": "code",
   "execution_count": 13,
   "id": "31ec7cf5",
   "metadata": {},
   "outputs": [
    {
     "data": {
      "text/html": [
       "<div>\n",
       "<style scoped>\n",
       "    .dataframe tbody tr th:only-of-type {\n",
       "        vertical-align: middle;\n",
       "    }\n",
       "\n",
       "    .dataframe tbody tr th {\n",
       "        vertical-align: top;\n",
       "    }\n",
       "\n",
       "    .dataframe thead th {\n",
       "        text-align: right;\n",
       "    }\n",
       "</style>\n",
       "<table border=\"1\" class=\"dataframe\">\n",
       "  <thead>\n",
       "    <tr style=\"text-align: right;\">\n",
       "      <th></th>\n",
       "      <th>Class Mapped</th>\n",
       "      <th>Class Raw</th>\n",
       "      <th>Counts</th>\n",
       "      <th>Percentage</th>\n",
       "      <th>Emoji</th>\n",
       "    </tr>\n",
       "  </thead>\n",
       "  <tbody>\n",
       "    <tr>\n",
       "      <th>0</th>\n",
       "      <td>unknown</td>\n",
       "      <td>unknown</td>\n",
       "      <td>157205</td>\n",
       "      <td>77.15</td>\n",
       "      <td>🤷</td>\n",
       "    </tr>\n",
       "    <tr>\n",
       "      <th>1</th>\n",
       "      <td>licit</td>\n",
       "      <td>2</td>\n",
       "      <td>42019</td>\n",
       "      <td>20.62</td>\n",
       "      <td>✅</td>\n",
       "    </tr>\n",
       "    <tr>\n",
       "      <th>2</th>\n",
       "      <td>illicit</td>\n",
       "      <td>1</td>\n",
       "      <td>4545</td>\n",
       "      <td>2.23</td>\n",
       "      <td>❌</td>\n",
       "    </tr>\n",
       "  </tbody>\n",
       "</table>\n",
       "</div>"
      ],
      "text/plain": [
       "  Class Mapped Class Raw  Counts  Percentage Emoji\n",
       "0      unknown   unknown  157205       77.15     🤷\n",
       "1        licit         2   42019       20.62     ✅\n",
       "2      illicit         1    4545        2.23     ❌"
      ]
     },
     "execution_count": 13,
     "metadata": {},
     "output_type": "execute_result"
    }
   ],
   "source": [
    "classes_df"
   ]
  },
  {
   "cell_type": "code",
   "execution_count": null,
   "id": "b9e77310",
   "metadata": {},
   "outputs": [],
   "source": []
  }
 ],
 "metadata": {
  "kernelspec": {
   "display_name": "dd-chat",
   "language": "python",
   "name": "python3"
  },
  "language_info": {
   "codemirror_mode": {
    "name": "ipython",
    "version": 3
   },
   "file_extension": ".py",
   "mimetype": "text/x-python",
   "name": "python",
   "nbconvert_exporter": "python",
   "pygments_lexer": "ipython3",
   "version": "3.9.21"
  }
 },
 "nbformat": 4,
 "nbformat_minor": 5
}
